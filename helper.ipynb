{
 "cells": [
  {
   "cell_type": "markdown",
   "metadata": {},
   "source": [
    "# Playing with the dictionary to help in Wordle\n",
    "\n",
    "[Wordle](https://www.powerlanguage.co.uk/wordle/) is a fun little game.\n",
    "\n",
    "Besides being fun, it offers the opportunity of playing a bit with Python and Jupyter. Both things that I am trying to learn.\n",
    "\n",
    "First lets load a word list from the computers dictionary"
   ]
  },
  {
   "cell_type": "code",
   "execution_count": 2,
   "metadata": {
    "collapsed": true,
    "pycharm": {
     "name": "#%%\n"
    }
   },
   "outputs": [
    {
     "data": {
      "text/plain": "['A\\n',\n 'a\\n',\n 'aa\\n',\n 'aal\\n',\n 'aalii\\n',\n 'aam\\n',\n 'Aani\\n',\n 'aardvark\\n',\n 'aardwolf\\n',\n 'Aaron\\n',\n 'Aaronic\\n',\n 'Aaronical\\n',\n 'Aaronite\\n',\n 'Aaronitic\\n',\n 'Aaru\\n',\n 'Ab\\n',\n 'aba\\n',\n 'Ababdeh\\n',\n 'Ababua\\n',\n 'abac\\n',\n 'abaca\\n',\n 'abacate\\n',\n 'abacay\\n',\n 'abacinate\\n',\n 'abacination\\n',\n 'abaciscus\\n',\n 'abacist\\n',\n 'aback\\n',\n 'abactinal\\n',\n 'abactinally\\n',\n 'abaction\\n',\n 'abactor\\n',\n 'abaculus\\n',\n 'abacus\\n',\n 'Abadite\\n',\n 'abaff\\n',\n 'abaft\\n',\n 'abaisance\\n',\n 'abaiser\\n',\n 'abaissed\\n',\n 'abalienate\\n',\n 'abalienation\\n',\n 'abalone\\n',\n 'Abama\\n',\n 'abampere\\n',\n 'abandon\\n',\n 'abandonable\\n',\n 'abandoned\\n',\n 'abandonedly\\n',\n 'abandonee\\n',\n 'abandoner\\n',\n 'abandonment\\n',\n 'Abanic\\n',\n 'Abantes\\n',\n 'abaptiston\\n',\n 'Abarambo\\n',\n 'Abaris\\n',\n 'abarthrosis\\n',\n 'abarticular\\n',\n 'abarticulation\\n',\n 'abas\\n',\n 'abase\\n',\n 'abased\\n',\n 'abasedly\\n',\n 'abasedness\\n',\n 'abasement\\n',\n 'abaser\\n',\n 'Abasgi\\n',\n 'abash\\n',\n 'abashed\\n',\n 'abashedly\\n',\n 'abashedness\\n',\n 'abashless\\n',\n 'abashlessly\\n',\n 'abashment\\n',\n 'abasia\\n',\n 'abasic\\n',\n 'abask\\n',\n 'Abassin\\n',\n 'abastardize\\n',\n 'abatable\\n',\n 'abate\\n',\n 'abatement\\n',\n 'abater\\n',\n 'abatis\\n',\n 'abatised\\n',\n 'abaton\\n',\n 'abator\\n',\n 'abattoir\\n',\n 'Abatua\\n',\n 'abature\\n',\n 'abave\\n',\n 'abaxial\\n',\n 'abaxile\\n',\n 'abaze\\n',\n 'abb\\n',\n 'Abba\\n',\n 'abbacomes\\n',\n 'abbacy\\n',\n 'Abbadide\\n',\n 'abbas\\n',\n 'abbasi\\n',\n 'abbassi\\n',\n 'Abbasside\\n',\n 'abbatial\\n',\n 'abbatical\\n',\n 'abbess\\n',\n 'abbey\\n',\n 'abbeystede\\n',\n 'Abbie\\n',\n 'abbot\\n',\n 'abbotcy\\n',\n 'abbotnullius\\n',\n 'abbotship\\n',\n 'abbreviate\\n',\n 'abbreviately\\n',\n 'abbreviation\\n',\n 'abbreviator\\n',\n 'abbreviatory\\n',\n 'abbreviature\\n',\n 'Abby\\n',\n 'abcoulomb\\n',\n 'abdal\\n',\n 'abdat\\n',\n 'Abderian\\n',\n 'Abderite\\n',\n 'abdest\\n',\n 'abdicable\\n',\n 'abdicant\\n',\n 'abdicate\\n',\n 'abdication\\n',\n 'abdicative\\n',\n 'abdicator\\n',\n 'Abdiel\\n',\n 'abditive\\n',\n 'abditory\\n',\n 'abdomen\\n',\n 'abdominal\\n',\n 'Abdominales\\n',\n 'abdominalian\\n',\n 'abdominally\\n',\n 'abdominoanterior\\n',\n 'abdominocardiac\\n',\n 'abdominocentesis\\n',\n 'abdominocystic\\n',\n 'abdominogenital\\n',\n 'abdominohysterectomy\\n',\n 'abdominohysterotomy\\n',\n 'abdominoposterior\\n',\n 'abdominoscope\\n',\n 'abdominoscopy\\n',\n 'abdominothoracic\\n',\n 'abdominous\\n',\n 'abdominovaginal\\n',\n 'abdominovesical\\n',\n 'abduce\\n',\n 'abducens\\n',\n 'abducent\\n',\n 'abduct\\n',\n 'abduction\\n',\n 'abductor\\n',\n 'Abe\\n',\n 'abeam\\n',\n 'abear\\n',\n 'abearance\\n',\n 'abecedarian\\n',\n 'abecedarium\\n',\n 'abecedary\\n',\n 'abed\\n',\n 'abeigh\\n',\n 'Abel\\n',\n 'abele\\n',\n 'Abelia\\n',\n 'Abelian\\n',\n 'Abelicea\\n',\n 'Abelite\\n',\n 'abelite\\n',\n 'Abelmoschus\\n',\n 'abelmosk\\n',\n 'Abelonian\\n',\n 'abeltree\\n',\n 'Abencerrages\\n',\n 'abenteric\\n',\n 'abepithymia\\n',\n 'Aberdeen\\n',\n 'aberdevine\\n',\n 'Aberdonian\\n',\n 'Aberia\\n',\n 'aberrance\\n',\n 'aberrancy\\n',\n 'aberrant\\n',\n 'aberrate\\n',\n 'aberration\\n',\n 'aberrational\\n',\n 'aberrator\\n',\n 'aberrometer\\n',\n 'aberroscope\\n',\n 'aberuncator\\n',\n 'abet\\n',\n 'abetment\\n',\n 'abettal\\n',\n 'abettor\\n',\n 'abevacuation\\n',\n 'abey\\n',\n 'abeyance\\n',\n 'abeyancy\\n',\n 'abeyant\\n',\n 'abfarad\\n',\n 'abhenry\\n',\n 'abhiseka\\n',\n 'abhominable\\n',\n 'abhor\\n',\n 'abhorrence\\n',\n 'abhorrency\\n',\n 'abhorrent\\n',\n 'abhorrently\\n',\n 'abhorrer\\n',\n 'abhorrible\\n',\n 'abhorring\\n',\n 'Abhorson\\n',\n 'abidal\\n',\n 'abidance\\n',\n 'abide\\n',\n 'abider\\n',\n 'abidi\\n',\n 'abiding\\n',\n 'abidingly\\n',\n 'abidingness\\n',\n 'Abie\\n',\n 'Abies\\n',\n 'abietate\\n',\n 'abietene\\n',\n 'abietic\\n',\n 'abietin\\n',\n 'Abietineae\\n',\n 'abietineous\\n',\n 'abietinic\\n',\n 'Abiezer\\n',\n 'Abigail\\n',\n 'abigail\\n',\n 'abigailship\\n',\n 'abigeat\\n',\n 'abigeus\\n',\n 'abilao\\n',\n 'ability\\n',\n 'abilla\\n',\n 'abilo\\n',\n 'abintestate\\n',\n 'abiogenesis\\n',\n 'abiogenesist\\n',\n 'abiogenetic\\n',\n 'abiogenetical\\n',\n 'abiogenetically\\n',\n 'abiogenist\\n',\n 'abiogenous\\n',\n 'abiogeny\\n',\n 'abiological\\n',\n 'abiologically\\n',\n 'abiology\\n',\n 'abiosis\\n',\n 'abiotic\\n',\n 'abiotrophic\\n',\n 'abiotrophy\\n',\n 'Abipon\\n',\n 'abir\\n',\n 'abirritant\\n',\n 'abirritate\\n',\n 'abirritation\\n',\n 'abirritative\\n',\n 'abiston\\n',\n 'Abitibi\\n',\n 'abiuret\\n',\n 'abject\\n',\n 'abjectedness\\n',\n 'abjection\\n',\n 'abjective\\n',\n 'abjectly\\n',\n 'abjectness\\n',\n 'abjoint\\n',\n 'abjudge\\n',\n 'abjudicate\\n',\n 'abjudication\\n',\n 'abjunction\\n',\n 'abjunctive\\n',\n 'abjuration\\n',\n 'abjuratory\\n',\n 'abjure\\n',\n 'abjurement\\n',\n 'abjurer\\n',\n 'abkar\\n',\n 'abkari\\n',\n 'Abkhas\\n',\n 'Abkhasian\\n',\n 'ablach\\n',\n 'ablactate\\n',\n 'ablactation\\n',\n 'ablare\\n',\n 'ablastemic\\n',\n 'ablastous\\n',\n 'ablate\\n',\n 'ablation\\n',\n 'ablatitious\\n',\n 'ablatival\\n',\n 'ablative\\n',\n 'ablator\\n',\n 'ablaut\\n',\n 'ablaze\\n',\n 'able\\n',\n 'ableeze\\n',\n 'ablegate\\n',\n 'ableness\\n',\n 'ablepharia\\n',\n 'ablepharon\\n',\n 'ablepharous\\n',\n 'Ablepharus\\n',\n 'ablepsia\\n',\n 'ableptical\\n',\n 'ableptically\\n',\n 'abler\\n',\n 'ablest\\n',\n 'ablewhackets\\n',\n 'ablins\\n',\n 'abloom\\n',\n 'ablow\\n',\n 'ablude\\n',\n 'abluent\\n',\n 'ablush\\n',\n 'ablution\\n',\n 'ablutionary\\n',\n 'abluvion\\n',\n 'ably\\n',\n 'abmho\\n',\n 'Abnaki\\n',\n 'abnegate\\n',\n 'abnegation\\n',\n 'abnegative\\n',\n 'abnegator\\n',\n 'Abner\\n',\n 'abnerval\\n',\n 'abnet\\n',\n 'abneural\\n',\n 'abnormal\\n',\n 'abnormalism\\n',\n 'abnormalist\\n',\n 'abnormality\\n',\n 'abnormalize\\n',\n 'abnormally\\n',\n 'abnormalness\\n',\n 'abnormity\\n',\n 'abnormous\\n',\n 'abnumerable\\n',\n 'Abo\\n',\n 'aboard\\n',\n 'Abobra\\n',\n 'abode\\n',\n 'abodement\\n',\n 'abody\\n',\n 'abohm\\n',\n 'aboil\\n',\n 'abolish\\n',\n 'abolisher\\n',\n 'abolishment\\n',\n 'abolition\\n',\n 'abolitionary\\n',\n 'abolitionism\\n',\n 'abolitionist\\n',\n 'abolitionize\\n',\n 'abolla\\n',\n 'aboma\\n',\n 'abomasum\\n',\n 'abomasus\\n',\n 'abominable\\n',\n 'abominableness\\n',\n 'abominably\\n',\n 'abominate\\n',\n 'abomination\\n',\n 'abominator\\n',\n 'abomine\\n',\n 'Abongo\\n',\n 'aboon\\n',\n 'aborad\\n',\n 'aboral\\n',\n 'aborally\\n',\n 'abord\\n',\n 'aboriginal\\n',\n 'aboriginality\\n',\n 'aboriginally\\n',\n 'aboriginary\\n',\n 'aborigine\\n',\n 'abort\\n',\n 'aborted\\n',\n 'aborticide\\n',\n 'abortient\\n',\n 'abortifacient\\n',\n 'abortin\\n',\n 'abortion\\n',\n 'abortional\\n',\n 'abortionist\\n',\n 'abortive\\n',\n 'abortively\\n',\n 'abortiveness\\n',\n 'abortus\\n',\n 'abouchement\\n',\n 'abound\\n',\n 'abounder\\n',\n 'abounding\\n',\n 'aboundingly\\n',\n 'about\\n',\n 'abouts\\n',\n 'above\\n',\n 'aboveboard\\n',\n 'abovedeck\\n',\n 'aboveground\\n',\n 'aboveproof\\n',\n 'abovestairs\\n',\n 'abox\\n',\n 'abracadabra\\n',\n 'abrachia\\n',\n 'abradant\\n',\n 'abrade\\n',\n 'abrader\\n',\n 'Abraham\\n',\n 'Abrahamic\\n',\n 'Abrahamidae\\n',\n 'Abrahamite\\n',\n 'Abrahamitic\\n',\n 'abraid\\n',\n 'Abram\\n',\n 'Abramis\\n',\n 'abranchial\\n',\n 'abranchialism\\n',\n 'abranchian\\n',\n 'Abranchiata\\n',\n 'abranchiate\\n',\n 'abranchious\\n',\n 'abrasax\\n',\n 'abrase\\n',\n 'abrash\\n',\n 'abrasiometer\\n',\n 'abrasion\\n',\n 'abrasive\\n',\n 'abrastol\\n',\n 'abraum\\n',\n 'abraxas\\n',\n 'abreact\\n',\n 'abreaction\\n',\n 'abreast\\n',\n 'abrenounce\\n',\n 'abret\\n',\n 'abrico\\n',\n 'abridge\\n',\n 'abridgeable\\n',\n 'abridged\\n',\n 'abridgedly\\n',\n 'abridger\\n',\n 'abridgment\\n',\n 'abrim\\n',\n 'abrin\\n',\n 'abristle\\n',\n 'abroach\\n',\n 'abroad\\n',\n 'Abrocoma\\n',\n 'abrocome\\n',\n 'abrogable\\n',\n 'abrogate\\n',\n 'abrogation\\n',\n 'abrogative\\n',\n 'abrogator\\n',\n 'Abroma\\n',\n 'Abronia\\n',\n 'abrook\\n',\n 'abrotanum\\n',\n 'abrotine\\n',\n 'abrupt\\n',\n 'abruptedly\\n',\n 'abruption\\n',\n 'abruptly\\n',\n 'abruptness\\n',\n 'Abrus\\n',\n 'Absalom\\n',\n 'absampere\\n',\n 'Absaroka\\n',\n 'absarokite\\n',\n 'abscess\\n',\n 'abscessed\\n',\n 'abscession\\n',\n 'abscessroot\\n',\n 'abscind\\n',\n 'abscise\\n',\n 'abscision\\n',\n 'absciss\\n',\n 'abscissa\\n',\n 'abscissae\\n',\n 'abscisse\\n',\n 'abscission\\n',\n 'absconce\\n',\n 'abscond\\n',\n 'absconded\\n',\n 'abscondedly\\n',\n 'abscondence\\n',\n 'absconder\\n',\n 'absconsa\\n',\n 'abscoulomb\\n',\n 'absence\\n',\n 'absent\\n',\n 'absentation\\n',\n 'absentee\\n',\n 'absenteeism\\n',\n 'absenteeship\\n',\n 'absenter\\n',\n 'absently\\n',\n 'absentment\\n',\n 'absentmindedly\\n',\n 'absentness\\n',\n 'absfarad\\n',\n 'abshenry\\n',\n 'Absi\\n',\n 'absinthe\\n',\n 'absinthial\\n',\n 'absinthian\\n',\n 'absinthiate\\n',\n 'absinthic\\n',\n 'absinthin\\n',\n 'absinthine\\n',\n 'absinthism\\n',\n 'absinthismic\\n',\n 'absinthium\\n',\n 'absinthol\\n',\n 'absit\\n',\n 'absmho\\n',\n 'absohm\\n',\n 'absolute\\n',\n 'absolutely\\n',\n 'absoluteness\\n',\n 'absolution\\n',\n 'absolutism\\n',\n 'absolutist\\n',\n 'absolutistic\\n',\n 'absolutistically\\n',\n 'absolutive\\n',\n 'absolutization\\n',\n 'absolutize\\n',\n 'absolutory\\n',\n 'absolvable\\n',\n 'absolvatory\\n',\n 'absolve\\n',\n 'absolvent\\n',\n 'absolver\\n',\n 'absolvitor\\n',\n 'absolvitory\\n',\n 'absonant\\n',\n 'absonous\\n',\n 'absorb\\n',\n 'absorbability\\n',\n 'absorbable\\n',\n 'absorbed\\n',\n 'absorbedly\\n',\n 'absorbedness\\n',\n 'absorbefacient\\n',\n 'absorbency\\n',\n 'absorbent\\n',\n 'absorber\\n',\n 'absorbing\\n',\n 'absorbingly\\n',\n 'absorbition\\n',\n 'absorpt\\n',\n 'absorptance\\n',\n 'absorptiometer\\n',\n 'absorptiometric\\n',\n 'absorption\\n',\n 'absorptive\\n',\n 'absorptively\\n',\n 'absorptiveness\\n',\n 'absorptivity\\n',\n 'absquatulate\\n',\n 'abstain\\n',\n 'abstainer\\n',\n 'abstainment\\n',\n 'abstemious\\n',\n 'abstemiously\\n',\n 'abstemiousness\\n',\n 'abstention\\n',\n 'abstentionist\\n',\n 'abstentious\\n',\n 'absterge\\n',\n 'abstergent\\n',\n 'abstersion\\n',\n 'abstersive\\n',\n 'abstersiveness\\n',\n 'abstinence\\n',\n 'abstinency\\n',\n 'abstinent\\n',\n 'abstinential\\n',\n 'abstinently\\n',\n 'abstract\\n',\n 'abstracted\\n',\n 'abstractedly\\n',\n 'abstractedness\\n',\n 'abstracter\\n',\n 'abstraction\\n',\n 'abstractional\\n',\n 'abstractionism\\n',\n 'abstractionist\\n',\n 'abstractitious\\n',\n 'abstractive\\n',\n 'abstractively\\n',\n 'abstractiveness\\n',\n 'abstractly\\n',\n 'abstractness\\n',\n 'abstractor\\n',\n 'abstrahent\\n',\n 'abstricted\\n',\n 'abstriction\\n',\n 'abstruse\\n',\n 'abstrusely\\n',\n 'abstruseness\\n',\n 'abstrusion\\n',\n 'abstrusity\\n',\n 'absume\\n',\n 'absumption\\n',\n 'absurd\\n',\n 'absurdity\\n',\n 'absurdly\\n',\n 'absurdness\\n',\n 'absvolt\\n',\n 'Absyrtus\\n',\n 'abterminal\\n',\n 'abthain\\n',\n 'abthainrie\\n',\n 'abthainry\\n',\n 'abthanage\\n',\n 'Abu\\n',\n 'abu\\n',\n 'abucco\\n',\n 'abulia\\n',\n 'abulic\\n',\n 'abulomania\\n',\n 'abuna\\n',\n 'abundance\\n',\n 'abundancy\\n',\n 'abundant\\n',\n 'Abundantia\\n',\n 'abundantly\\n',\n 'abura\\n',\n 'aburabozu\\n',\n 'aburban\\n',\n 'aburst\\n',\n 'aburton\\n',\n 'abusable\\n',\n 'abuse\\n',\n 'abusedly\\n',\n 'abusee\\n',\n 'abuseful\\n',\n 'abusefully\\n',\n 'abusefulness\\n',\n 'abuser\\n',\n 'abusion\\n',\n 'abusious\\n',\n 'abusive\\n',\n 'abusively\\n',\n 'abusiveness\\n',\n 'abut\\n',\n 'Abuta\\n',\n 'Abutilon\\n',\n 'abutment\\n',\n 'abuttal\\n',\n 'abutter\\n',\n 'abutting\\n',\n 'abuzz\\n',\n 'abvolt\\n',\n 'abwab\\n',\n 'aby\\n',\n 'abysm\\n',\n 'abysmal\\n',\n 'abysmally\\n',\n 'abyss\\n',\n 'abyssal\\n',\n 'Abyssinian\\n',\n 'abyssobenthonic\\n',\n 'abyssolith\\n',\n 'abyssopelagic\\n',\n 'acacatechin\\n',\n 'acacatechol\\n',\n 'acacetin\\n',\n 'Acacia\\n',\n 'Acacian\\n',\n 'acaciin\\n',\n 'acacin\\n',\n 'academe\\n',\n 'academial\\n',\n 'academian\\n',\n 'Academic\\n',\n 'academic\\n',\n 'academical\\n',\n 'academically\\n',\n 'academicals\\n',\n 'academician\\n',\n 'academicism\\n',\n 'academism\\n',\n 'academist\\n',\n 'academite\\n',\n 'academization\\n',\n 'academize\\n',\n 'Academus\\n',\n 'academy\\n',\n 'Acadia\\n',\n 'acadialite\\n',\n 'Acadian\\n',\n 'Acadie\\n',\n 'Acaena\\n',\n 'acajou\\n',\n 'acaleph\\n',\n 'Acalepha\\n',\n 'Acalephae\\n',\n 'acalephan\\n',\n 'acalephoid\\n',\n 'acalycal\\n',\n 'acalycine\\n',\n 'acalycinous\\n',\n 'acalyculate\\n',\n 'Acalypha\\n',\n 'Acalypterae\\n',\n 'Acalyptrata\\n',\n 'Acalyptratae\\n',\n 'acalyptrate\\n',\n 'Acamar\\n',\n 'acampsia\\n',\n 'acana\\n',\n 'acanaceous\\n',\n 'acanonical\\n',\n 'acanth\\n',\n 'acantha\\n',\n 'Acanthaceae\\n',\n 'acanthaceous\\n',\n 'acanthad\\n',\n 'Acantharia\\n',\n 'Acanthia\\n',\n 'acanthial\\n',\n 'acanthin\\n',\n 'acanthine\\n',\n 'acanthion\\n',\n 'acanthite\\n',\n 'acanthocarpous\\n',\n 'Acanthocephala\\n',\n 'acanthocephalan\\n',\n 'Acanthocephali\\n',\n 'acanthocephalous\\n',\n 'Acanthocereus\\n',\n 'acanthocladous\\n',\n 'Acanthodea\\n',\n 'acanthodean\\n',\n 'Acanthodei\\n',\n 'Acanthodes\\n',\n 'acanthodian\\n',\n 'Acanthodidae\\n',\n 'Acanthodii\\n',\n 'Acanthodini\\n',\n 'acanthoid\\n',\n 'Acantholimon\\n',\n 'acanthological\\n',\n 'acanthology\\n',\n 'acantholysis\\n',\n 'acanthoma\\n',\n 'Acanthomeridae\\n',\n 'acanthon\\n',\n 'Acanthopanax\\n',\n 'Acanthophis\\n',\n 'acanthophorous\\n',\n 'acanthopod\\n',\n 'acanthopodous\\n',\n 'acanthopomatous\\n',\n 'acanthopore\\n',\n 'acanthopteran\\n',\n 'Acanthopteri\\n',\n 'acanthopterous\\n',\n 'acanthopterygian\\n',\n 'Acanthopterygii\\n',\n 'acanthosis\\n',\n 'acanthous\\n',\n 'Acanthuridae\\n',\n 'Acanthurus\\n',\n 'acanthus\\n',\n 'acapnia\\n',\n 'acapnial\\n',\n 'acapsular\\n',\n 'acapu\\n',\n 'acapulco\\n',\n 'acara\\n',\n 'Acarapis\\n',\n 'acardia\\n',\n 'acardiac\\n',\n 'acari\\n',\n 'acarian\\n',\n 'acariasis\\n',\n 'acaricidal\\n',\n 'acaricide\\n',\n 'acarid\\n',\n 'Acarida\\n',\n 'Acaridea\\n',\n 'acaridean\\n',\n 'acaridomatium\\n',\n 'acariform\\n',\n 'Acarina\\n',\n 'acarine\\n',\n 'acarinosis\\n',\n 'acarocecidium\\n',\n 'acarodermatitis\\n',\n 'acaroid\\n',\n 'acarol\\n',\n 'acarologist\\n',\n 'acarology\\n',\n 'acarophilous\\n',\n 'acarophobia\\n',\n 'acarotoxic\\n',\n 'acarpelous\\n',\n 'acarpous\\n',\n 'Acarus\\n',\n 'Acastus\\n',\n 'acatalectic\\n',\n 'acatalepsia\\n',\n 'acatalepsy\\n',\n 'acataleptic\\n',\n 'acatallactic\\n',\n 'acatamathesia\\n',\n 'acataphasia\\n',\n 'acataposis\\n',\n 'acatastasia\\n',\n 'acatastatic\\n',\n 'acate\\n',\n 'acategorical\\n',\n 'acatery\\n',\n 'acatharsia\\n',\n 'acatharsy\\n',\n 'acatholic\\n',\n 'acaudal\\n',\n 'acaudate\\n',\n 'acaulescent\\n',\n 'acauline\\n',\n 'acaulose\\n',\n 'acaulous\\n',\n 'acca\\n',\n 'accede\\n',\n 'accedence\\n',\n 'acceder\\n',\n 'accelerable\\n',\n 'accelerando\\n',\n 'accelerant\\n',\n 'accelerate\\n',\n 'accelerated\\n',\n 'acceleratedly\\n',\n 'acceleration\\n',\n 'accelerative\\n',\n 'accelerator\\n',\n 'acceleratory\\n',\n 'accelerograph\\n',\n 'accelerometer\\n',\n 'accend\\n',\n 'accendibility\\n',\n 'accendible\\n',\n 'accension\\n',\n 'accensor\\n',\n 'accent\\n',\n 'accentless\\n',\n 'accentor\\n',\n 'accentuable\\n',\n 'accentual\\n',\n 'accentuality\\n',\n 'accentually\\n',\n 'accentuate\\n',\n 'accentuation\\n',\n 'accentuator\\n',\n 'accentus\\n',\n 'accept\\n',\n 'acceptability\\n',\n 'acceptable\\n',\n 'acceptableness\\n',\n 'acceptably\\n',\n 'acceptance\\n',\n 'acceptancy\\n',\n 'acceptant\\n',\n 'acceptation\\n',\n 'accepted\\n',\n 'acceptedly\\n',\n 'accepter\\n',\n 'acceptilate\\n',\n 'acceptilation\\n',\n 'acception\\n',\n 'acceptive\\n',\n 'acceptor\\n',\n 'acceptress\\n',\n 'accerse\\n',\n 'accersition\\n',\n 'accersitor\\n',\n 'access\\n',\n 'accessarily\\n',\n 'accessariness\\n',\n 'accessary\\n',\n 'accessaryship\\n',\n 'accessibility\\n',\n 'accessible\\n',\n 'accessibly\\n',\n 'accession\\n',\n 'accessional\\n',\n 'accessioner\\n',\n 'accessive\\n',\n 'accessively\\n',\n 'accessless\\n',\n 'accessorial\\n',\n 'accessorily\\n',\n 'accessoriness\\n',\n 'accessorius\\n',\n 'accessory\\n',\n 'accidence\\n',\n 'accidency\\n',\n 'accident\\n',\n 'accidental\\n',\n 'accidentalism\\n',\n 'accidentalist\\n',\n 'accidentality\\n',\n 'accidentally\\n',\n 'accidentalness\\n',\n 'accidented\\n',\n 'accidential\\n',\n 'accidentiality\\n',\n 'accidently\\n',\n 'accidia\\n',\n 'accidie\\n',\n 'accinge\\n',\n 'accipient\\n',\n 'Accipiter\\n',\n 'accipitral\\n',\n 'accipitrary\\n',\n 'Accipitres\\n',\n 'accipitrine\\n',\n 'accismus\\n',\n 'accite\\n',\n 'acclaim\\n',\n 'acclaimable\\n',\n 'acclaimer\\n',\n 'acclamation\\n',\n 'acclamator\\n',\n 'acclamatory\\n',\n 'acclimatable\\n',\n 'acclimatation\\n',\n 'acclimate\\n',\n 'acclimatement\\n',\n 'acclimation\\n',\n 'acclimatizable\\n',\n 'acclimatization\\n',\n 'acclimatize\\n',\n 'acclimatizer\\n',\n 'acclimature\\n',\n 'acclinal\\n',\n 'acclinate\\n',\n 'acclivitous\\n',\n 'acclivity\\n',\n 'acclivous\\n',\n 'accloy\\n',\n 'accoast\\n',\n 'accoil\\n',\n 'accolade\\n',\n 'accoladed\\n',\n 'accolated\\n',\n 'accolent\\n',\n 'accolle\\n',\n 'accombination\\n',\n 'accommodable\\n',\n 'accommodableness\\n',\n 'accommodate\\n',\n 'accommodately\\n',\n 'accommodateness\\n',\n 'accommodating\\n',\n 'accommodatingly\\n',\n 'accommodation\\n',\n 'accommodational\\n',\n 'accommodative\\n',\n 'accommodativeness\\n',\n 'accommodator\\n',\n 'accompanier\\n',\n 'accompaniment\\n',\n 'accompanimental\\n',\n 'accompanist\\n',\n 'accompany\\n',\n 'accompanyist\\n',\n 'accompletive\\n',\n 'accomplice\\n',\n 'accompliceship\\n',\n 'accomplicity\\n',\n 'accomplish\\n',\n 'accomplishable\\n',\n 'accomplished\\n',\n 'accomplisher\\n',\n 'accomplishment\\n',\n 'accomplisht\\n',\n 'accompt\\n',\n 'accord\\n',\n 'accordable\\n',\n 'accordance\\n',\n 'accordancy\\n',\n 'accordant\\n',\n ...]"
     },
     "execution_count": 2,
     "metadata": {},
     "output_type": "execute_result"
    }
   ],
   "source": [
    "word_list = open(\"/usr/share/dict/words\",\"r\").readlines()\n",
    "word_list"
   ]
  },
  {
   "cell_type": "markdown",
   "source": [],
   "metadata": {
    "collapsed": false
   }
  },
  {
   "cell_type": "markdown",
   "source": [
    "Then let's clean up a bit the word list to get all the words with 5 letters."
   ],
   "metadata": {
    "collapsed": false,
    "pycharm": {
     "name": "#%% md\n"
    }
   }
  },
  {
   "cell_type": "code",
   "execution_count": 4,
   "outputs": [],
   "source": [
    "words = [x.strip().lower() for x in word_list if len(x.strip()) == 5 ]"
   ],
   "metadata": {
    "collapsed": false,
    "pycharm": {
     "name": "#%%\n"
    }
   }
  },
  {
   "cell_type": "markdown",
   "source": [
    "Count the letter appearances:"
   ],
   "metadata": {
    "collapsed": false,
    "pycharm": {
     "name": "#%% md\n"
    }
   }
  },
  {
   "cell_type": "code",
   "execution_count": 5,
   "metadata": {
    "pycharm": {
     "name": "#%%\n"
    }
   },
   "outputs": [],
   "source": [
    "freq = {}\n",
    "for w in words:\n",
    "    for c in w:\n",
    "        if c in freq:\n",
    "            freq[c] += 1\n",
    "        else:\n",
    "            freq[c] = 1"
   ]
  },
  {
   "cell_type": "markdown",
   "source": [
    "And then compute their relative frequency (this step we may avoid)."
   ],
   "metadata": {
    "collapsed": false,
    "pycharm": {
     "name": "#%% md\n"
    }
   }
  },
  {
   "cell_type": "code",
   "execution_count": 6,
   "outputs": [],
   "source": [
    "total = sum(freq.values())\n",
    "for k, v in freq.items():\n",
    "    freq[k] = freq[k]/total"
   ],
   "metadata": {
    "collapsed": false,
    "pycharm": {
     "name": "#%%\n"
    }
   }
  },
  {
   "cell_type": "markdown",
   "source": [
    "I define now a function to compute the score of a word. A word is better when the unique letters it contains appear more frequently as dictionary entries."
   ],
   "metadata": {
    "collapsed": false,
    "pycharm": {
     "name": "#%% md\n"
    }
   }
  },
  {
   "cell_type": "code",
   "execution_count": 7,
   "outputs": [],
   "source": [
    "def score(w):\n",
    "    s = 0\n",
    "    for letter in set(w):\n",
    "        s += freq[letter]\n",
    "    return s"
   ],
   "metadata": {
    "collapsed": false,
    "pycharm": {
     "name": "#%%\n"
    }
   }
  },
  {
   "cell_type": "code",
   "execution_count": 8,
   "outputs": [
    {
     "data": {
      "text/plain": "[('arose', 0.399960899315738),\n ('oreas', 0.399960899315738),\n ('aries', 0.39990224828934506),\n ('arise', 0.39990224828934506),\n ('raise', 0.39990224828934506),\n ('serai', 0.39990224828934506),\n ('leora', 0.3982209188660802),\n ('ariel', 0.3981622678396872),\n ('ariel', 0.3981622678396872),\n ('erian', 0.39790811339198434),\n ('irena', 0.39790811339198434),\n ('reina', 0.39790811339198434),\n ('orate', 0.396989247311828),\n ('arite', 0.39693059628543503),\n ('artie', 0.39693059628543503),\n ('irate', 0.39693059628543503),\n ('retia', 0.39693059628543503),\n ('tarie', 0.39693059628543503),\n ('arles', 0.38981427174975564),\n ('arsle', 0.38981427174975564),\n ('laser', 0.38981427174975564),\n ('seral', 0.38981427174975564),\n ('slare', 0.38981427174975564),\n ('anser', 0.38956011730205276),\n ('nares', 0.38956011730205276),\n ('rasen', 0.38956011730205276),\n ('snare', 0.38956011730205276),\n ('aster', 0.38858260019550345),\n ('serta', 0.38858260019550345),\n ('stare', 0.38858260019550345),\n ('strae', 0.38858260019550345),\n ('tarse', 0.38858260019550345),\n ('teras', 0.38858260019550345),\n ('learn', 0.3878201368523949),\n ('renal', 0.3878201368523949),\n ('alert', 0.38684261974584555),\n ('alter', 0.38684261974584555),\n ('artel', 0.38684261974584555),\n ('later', 0.38684261974584555),\n ('ratel', 0.38684261974584555),\n ('taler', 0.38684261974584555),\n ('telar', 0.38684261974584555),\n ('antre', 0.3865884652981427),\n ('arent', 0.3865884652981427),\n ('retan', 0.3865884652981427),\n ('terna', 0.3865884652981427),\n ('alose', 0.3850635386119257),\n ('osela', 0.3850635386119257),\n ('solea', 0.3850635386119257),\n ('solea', 0.3850635386119257),\n ('aisle', 0.38500488758553275),\n ('elias', 0.38500488758553275),\n ('anise', 0.38475073313782987),\n ('insea', 0.38475073313782987),\n ('siena', 0.38475073313782987),\n ('sinae', 0.38475073313782987),\n ('aotes', 0.3838318670576735),\n ('saite', 0.38377321603128056),\n ('taise', 0.38377321603128056),\n ('alone', 0.383069403714565),\n ('anole', 0.383069403714565),\n ('olena', 0.383069403714565),\n ('alien', 0.38301075268817203),\n ('aline', 0.38301075268817203),\n ('anile', 0.38301075268817203),\n ('elain', 0.38301075268817203),\n ('elian', 0.38301075268817203),\n ('laine', 0.38301075268817203),\n ('linea', 0.38301075268817203),\n ('atelo', 0.38209188660801563),\n ('alite', 0.38203323558162267),\n ('laeti', 0.38203323558162267),\n ('atone', 0.3818377321603128),\n ('oaten', 0.3818377321603128),\n ('entia', 0.38177908113391984),\n ('teian', 0.38177908113391984),\n ('tenai', 0.38177908113391984),\n ('tinea', 0.38177908113391984),\n ('serau', 0.38011730205278593),\n ('urase', 0.38011730205278593),\n ('ocrea', 0.3795112414467253),\n ('acier', 0.37945259042033236),\n ('aeric', 0.37945259042033236),\n ('ceria', 0.37945259042033236),\n ('erica', 0.37945259042033236),\n ('alure', 0.37837732160312804),\n ('ureal', 0.37837732160312804),\n ('urena', 0.3781231671554252),\n ('urnae', 0.3781231671554252),\n ('urate', 0.37714565004887585),\n ('adore', 0.3763245356793744),\n ('oared', 0.3763245356793744),\n ('oread', 0.3763245356793744),\n ('aider', 0.37626588465298144),\n ('deair', 0.37626588465298144),\n ('irade', 0.37626588465298144),\n ('redia', 0.37626588465298144),\n ('aimer', 0.375425219941349),\n ('maire', 0.375425219941349),\n ('marie', 0.375425219941349),\n ('ramie', 0.375425219941349),\n ('ansel', 0.37466275659824044),\n ('slane', 0.37466275659824044),\n ('haire', 0.37456500488758554),\n ('least', 0.3736852394916911),\n ('setal', 0.3736852394916911),\n ('slate', 0.3736852394916911),\n ('stale', 0.3736852394916911),\n ('steal', 0.3736852394916911),\n ('stela', 0.3736852394916911),\n ('tales', 0.3736852394916911),\n ('antes', 0.37343108504398825),\n ('nates', 0.37343108504398825),\n ('stane', 0.37343108504398825),\n ('stean', 0.37343108504398825),\n ('opera', 0.3724926686217009),\n ('aueto', 0.3723949169110459),\n ('ental', 0.37169110459433036),\n ('laten', 0.37169110459433036),\n ('leant', 0.37169110459433036),\n ('reasy', 0.3714956011730205),\n ('resay', 0.3714956011730205),\n ('sayer', 0.3714956011730205),\n ('seary', 0.3714956011730205),\n ('carse', 0.37110459433040077),\n ('caser', 0.37110459433040077),\n ('ceras', 0.37110459433040077),\n ('scare', 0.37110459433040077),\n ('scrae', 0.37110459433040077),\n ('barie', 0.3704398826979472),\n ('beira', 0.3704398826979472),\n ('erbia', 0.3704398826979472),\n ('rebia', 0.3704398826979472),\n ('early', 0.36975562072336265),\n ('layer', 0.36975562072336265),\n ('relay', 0.36975562072336265),\n ('enray', 0.36950146627565983),\n ('yearn', 0.36950146627565983),\n ('ceral', 0.36936461388074293),\n ('clare', 0.36936461388074293),\n ('clear', 0.36936461388074293),\n ('lacer', 0.36936461388074293),\n ('caner', 0.36911045943304005),\n ('crane', 0.36911045943304005),\n ('crena', 0.36911045943304005),\n ('nacre', 0.36911045943304005),\n ('rance', 0.36911045943304005),\n ('orias', 0.3689736070381232),\n ('orage', 0.3688172043010753),\n ('geira', 0.3687585532746823),\n ('regia', 0.3687585532746823),\n ('tayer', 0.36852394916911047),\n ('teary', 0.36852394916911047),\n ('caret', 0.36813294232649074),\n ('carte', 0.36813294232649074),\n ('cater', 0.36813294232649074),\n ('crate', 0.36813294232649074),\n ('creat', 0.36813294232649074),\n ('creta', 0.36813294232649074),\n ('react', 0.36813294232649074),\n ('recta', 0.36813294232649074),\n ('trace', 0.36813294232649074),\n ('dares', 0.36791788856304986),\n ('smear', 0.3670772238514174),\n ('arion', 0.3669794721407625),\n ('noria', 0.3669794721407625),\n ('asher', 0.36621700879765395),\n ('share', 0.36621700879765395),\n ('shear', 0.36621700879765395),\n ('alder', 0.366177908113392),\n ('daler', 0.366177908113392),\n ('lader', 0.366177908113392),\n ('ariot', 0.3660019550342131),\n ('ratio', 0.3660019550342131),\n ('andre', 0.36592375366568913),\n ('arend', 0.36592375366568913),\n ('daren', 0.36592375366568913),\n ('redan', 0.36592375366568913),\n ('realm', 0.36533724340175955),\n ('sulea', 0.36521994134897356),\n ('enarm', 0.36508308895405667),\n ('namer', 0.36508308895405667),\n ('reman', 0.36508308895405667),\n ('erika', 0.36506353861192575),\n ('usnea', 0.36496578690127074),\n ('usnea', 0.36496578690127074),\n ('dater', 0.3649462365591398),\n ('derat', 0.3649462365591398),\n ('detar', 0.3649462365591398),\n ('drate', 0.3649462365591398),\n ('rated', 0.3649462365591398),\n ('trade', 0.3649462365591398),\n ('tread', 0.3649462365591398),\n ('alice', 0.36455522971652005),\n ('celia', 0.36455522971652005),\n ('ileac', 0.36455522971652005),\n ('haler', 0.3644770283479961),\n ('acone', 0.36435972629521013),\n ('canoe', 0.36435972629521013),\n ('ocean', 0.36435972629521013),\n ('anice', 0.36430107526881716),\n ('eniac', 0.36430107526881716),\n ('armet', 0.36410557184750736),\n ('mater', 0.36410557184750736),\n ('merat', 0.36410557184750736),\n ('metra', 0.36410557184750736),\n ('ramet', 0.36410557184750736),\n ('tamer', 0.36410557184750736),\n ('terma', 0.36410557184750736),\n ('trame', 0.36410557184750736),\n ('trema', 0.36410557184750736),\n ('asper', 0.36408602150537633),\n ('parse', 0.36408602150537633),\n ('prase', 0.36408602150537633),\n ('spaer', 0.36408602150537633),\n ('spare', 0.36408602150537633),\n ('spear', 0.36408602150537633),\n ('saute', 0.3639882697947214),\n ('caite', 0.36332355816226786),\n ('earth', 0.3632453567937439),\n ('hater', 0.3632453567937439),\n ('heart', 0.3632453567937439),\n ('herat', 0.3632453567937439),\n ('rathe', 0.3632453567937439),\n ('ulnae', 0.36322580645161284),\n ('aides', 0.36310850439882697),\n ('aside', 0.36310850439882697),\n ('sadie', 0.36310850439882697),\n ('lepra', 0.3623460410557185),\n ('paler', 0.3623460410557185),\n ('parel', 0.3623460410557185),\n ('parle', 0.3623460410557185),\n ('pearl', 0.3623460410557185),\n ('perla', 0.3623460410557185),\n ('relap', 0.3623460410557185),\n ('aleut', 0.36224828934506353),\n ('atule', 0.36224828934506353),\n ('arpen', 0.3620918866080156),\n ('barse', 0.3620918866080156),\n ('besra', 0.3620918866080156),\n ('paren', 0.3620918866080156),\n ('saber', 0.3620918866080156),\n ('serab', 0.3620918866080156),\n ('atune', 0.36199413489736065),\n ('aloed', 0.3614271749755621),\n ('adiel', 0.36136852394916913),\n ('delia', 0.36136852394916913),\n ('ideal', 0.36136852394916913),\n ('anode', 0.3611730205278592),\n ('apert', 0.3611143695014663),\n ('pater', 0.3611143695014663),\n ('peart', 0.3611143695014663),\n ('prate', 0.3611143695014663),\n ('taper', 0.3611143695014663),\n ('terap', 0.3611143695014663),\n ('diane', 0.36111436950146625),\n ('idean', 0.36111436950146625),\n ('amole', 0.3605865102639296),\n ('maleo', 0.3605865102639296),\n ('melia', 0.36052785923753666),\n ('garse', 0.36041055718475073),\n ('abler', 0.36035190615835777),\n ('baler', 0.36035190615835777),\n ('belar', 0.36035190615835777),\n ('blare', 0.36035190615835777),\n ('blear', 0.36035190615835777),\n ('kioea', 0.36031280547409583),\n ('amine', 0.3602737047898338),\n ('anime', 0.3602737047898338),\n ('maine', 0.3602737047898338),\n ('manei', 0.3602737047898338),\n ('deota', 0.3601955034213099),\n ('todea', 0.3601955034213099),\n ('abner', 0.36009775171065495),\n ('arneb', 0.36009775171065495),\n ('reban', 0.36009775171065495),\n ('eloah', 0.3597262952101662),\n ('haole', 0.3597262952101662),\n ('eruca', 0.3596676441837732),\n ('eruca', 0.3596676441837732),\n ('haine', 0.35941348973607035),\n ('sepia', 0.35927663734115345),\n ('abret', 0.3591202346041056),\n ('bater', 0.3591202346041056),\n ('berat', 0.3591202346041056),\n ('rosal', 0.3588856304985337),\n ('solar', 0.3588856304985337),\n ('soral', 0.3588856304985337),\n ('argel', 0.3586705767350929),\n ('ergal', 0.3586705767350929),\n ('garle', 0.3586705767350929),\n ('glare', 0.3586705767350929),\n ('lager', 0.3586705767350929),\n ('large', 0.3586705767350929),\n ('regal', 0.3586705767350929),\n ('arson', 0.3586314760508309),\n ('saron', 0.3586314760508309),\n ('sonar', 0.3586314760508309),\n ('hiate', 0.35843597262952104),\n ('anger', 0.35841642228739),\n ('areng', 0.35841642228739),\n ('grane', 0.35841642228739),\n ('range', 0.35841642228739),\n ('afore', 0.35794721407624636),\n ('afire', 0.3578885630498534),\n ('feria', 0.3578885630498534),\n ('astor', 0.35765395894428154),\n ('roast', 0.35765395894428154),\n ('arist', 0.35759530791788857),\n ('astir', 0.35759530791788857),\n ('sitar', 0.35759530791788857),\n ('stair', 0.35759530791788857),\n ('stria', 0.35759530791788857),\n ('tarsi', 0.35759530791788857),\n ('tisar', 0.35759530791788857),\n ('trias', 0.35759530791788857),\n ('pilea', 0.3575366568914956),\n ('gater', 0.3574389051808407),\n ('grate', 0.3574389051808407),\n ('great', 0.3574389051808407),\n ('greta', 0.3574389051808407),\n ('retag', 0.3574389051808407),\n ('targe', 0.3574389051808407),\n ('paeon', 0.3573411534701857),\n ('abies', 0.3572825024437927),\n ('beisa', 0.3572825024437927),\n ('niepa', 0.3572825024437927),\n ('loran', 0.356891495601173),\n ('larin', 0.35683284457478004),\n ('asker', 0.35671554252199417),\n ('reask', 0.35671554252199417),\n ('saker', 0.35671554252199417),\n ('sekar', 0.35671554252199417),\n ('adrue', 0.3564809384164223),\n ('alces', 0.35620723362658846),\n ('casel', 0.35620723362658846),\n ('scale', 0.35620723362658846),\n ('scena', 0.3559530791788856),\n ('latro', 0.3559139784946237),\n ('rotal', 0.3559139784946237),\n ('rotal', 0.3559139784946237),\n ('toral', 0.3559139784946237),\n ('litra', 0.35585532746823073),\n ('trail', 0.35585532746823073),\n ('trial', 0.35585532746823073),\n ('orant', 0.3556598240469208),\n ('osage', 0.3556598240469208),\n ('rotan', 0.3556598240469208),\n ('toran', 0.3556598240469208),\n ('trona', 0.3556598240469208),\n ('aegis', 0.35560117302052785),\n ('riant', 0.35560117302052785),\n ('tairn', 0.35560117302052785),\n ('tarin', 0.35560117302052785),\n ('train', 0.35560117302052785),\n ('balei', 0.3555425219941349),\n ('teasy', 0.355366568914956),\n ('yeast', 0.355366568914956),\n ('beano', 0.35534701857282497),\n ('caste', 0.35497556207233627),\n ('karel', 0.35497556207233627),\n ('laker', 0.35497556207233627),\n ('sceat', 0.35497556207233627),\n ('anker', 0.35472140762463344),\n ('karen', 0.35472140762463344),\n ('naker', 0.35472140762463344),\n ('laney', 0.3546041055718475),\n ('layne', 0.3546041055718475),\n ('canel', 0.35421309872922774),\n ('clean', 0.35421309872922774),\n ('lance', 0.35421309872922774),\n ('lance', 0.35421309872922774),\n ('lenca', 0.35421309872922774),\n ('vaire', 0.35413489736070386),\n ('aliso', 0.35407624633431084),\n ('alois', 0.35407624633431084),\n ('gloea', 0.353919843597263),\n ('legoa', 0.353919843597263),\n ('agiel', 0.35386119257087),\n ('agile', 0.35386119257087),\n ('galei', 0.35386119257087),\n ('kerat', 0.3537438905180841),\n ('taker', 0.3537438905180841),\n ('agone', 0.3536656891495601),\n ('genoa', 0.3536656891495601),\n ('aylet', 0.35362658846529815),\n ('angie', 0.35360703812316713),\n ('gaine', 0.35360703812316713),\n ('cleat', 0.3532355816226784),\n ('eclat', 0.3532355816226784),\n ('ectal', 0.3532355816226784),\n ('lacet', 0.3532355816226784),\n ('tecla', 0.3532355816226784),\n ('aoife', 0.35313782991202347),\n ('leads', 0.35302052785923754),\n ('slade', 0.35302052785923754),\n ('enact', 0.35298142717497555),\n ('sitao', 0.35284457478005865),\n ('staio', 0.35284457478005865),\n ('sedan', 0.35276637341153466),\n ('sedan', 0.35276637341153466),\n ('snead', 0.35276637341153466),\n ('aperu', 0.3526490713587488),\n ('amsel', 0.3521798631476051),\n ('melas', 0.3521798631476051),\n ('mesal', 0.3521798631476051),\n ('samel', 0.3521798631476051),\n ('aloin', 0.3520821114369501),\n ('anoil', 0.3520821114369501),\n ('anoli', 0.3520821114369501),\n ('manes', 0.3519257086999022),\n ('manse', 0.3519257086999022),\n ('mensa', 0.3519257086999022),\n ('samen', 0.3519257086999022),\n ('senam', 0.3519257086999022),\n ('sedat', 0.35178885630498535),\n ('stade', 0.35178885630498535),\n ('stead', 0.35178885630498535),\n ('adieu', 0.3516715542521994),\n ('halse', 0.35131964809384164),\n ('leash', 0.35131964809384164),\n ('selah', 0.35131964809384164),\n ('shale', 0.35131964809384164),\n ('sheal', 0.35131964809384164),\n ('shela', 0.35131964809384164),\n ('osier', 0.3512609970674487),\n ('serio', 0.3512609970674487),\n ('ashen', 0.35106549364613876),\n ('hanse', 0.35106549364613876),\n ('hanse', 0.35106549364613876),\n ('shane', 0.35106549364613876),\n ('shean', 0.35106549364613876),\n ('eland', 0.3510263929618768),\n ('laden', 0.3510263929618768),\n ('lenad', 0.3510263929618768),\n ('steam', 0.3509481915933529),\n ('stema', 0.3509481915933529),\n ('niota', 0.35085043988269793),\n ('taino', 0.35085043988269793),\n ('baure', 0.35065493646138807),\n ('kolea', 0.35022482893450635),\n ('leman', 0.35018572825024435),\n ('lemna', 0.35018572825024435),\n ('alike', 0.3501661779081134),\n ('lakie', 0.3501661779081134),\n ('ashet', 0.35008797653958945),\n ('haste', 0.35008797653958945),\n ('sheat', 0.35008797653958945),\n ('adlet', 0.35004887585532746),\n ('dealt', 0.35004887585532746),\n ('delta', 0.35004887585532746),\n ('delta', 0.35004887585532746),\n ('lated', 0.35004887585532746),\n ('taled', 0.35004887585532746),\n ('heiau', 0.3499706744868035),\n ('oaken', 0.34997067448680347),\n ('kenai', 0.34991202346041056),\n ('denat', 0.34979472140762463),\n ('entad', 0.34979472140762463),\n ('resaw', 0.34973607038123167),\n ('sawer', 0.34973607038123167),\n ('seraw', 0.34973607038123167),\n ('sware', 0.34973607038123167),\n ('swear', 0.34973607038123167),\n ('warse', 0.34973607038123167),\n ('farse', 0.3495405669599218),\n ('frase', 0.3495405669599218),\n ('oiler', 0.34952101661779084),\n ('oriel', 0.34952101661779084),\n ('reoil', 0.34952101661779084),\n ('irone', 0.34926686217008795),\n ('norie', 0.34926686217008795),\n ('metal', 0.349208211143695),\n ('elaps', 0.349188660801564),\n ('lapse', 0.349188660801564),\n ('lepas', 0.349188660801564),\n ('pales', 0.349188660801564),\n ('salep', 0.349188660801564),\n ('saple', 0.349188660801564),\n ('sepal', 0.349188660801564),\n ('slape', 0.349188660801564),\n ('spale', 0.349188660801564),\n ('speal', 0.349188660801564),\n ('arius', 0.3491300097751711),\n ('asuri', 0.3491300097751711),\n ('atoke', 0.34899315738025416),\n ('argue', 0.3489736070381232),\n ('auger', 0.3489736070381232),\n ('ament', 0.34895405669599217),\n ('meant', 0.34895405669599217),\n ('teman', 0.34895405669599217),\n ('teman', 0.34895405669599217),\n ('katie', 0.3489345063538612),\n ('keita', 0.3489345063538612),\n ('aspen', 0.34893450635386114),\n ('panse', 0.34893450635386114),\n ('snape', 0.34893450635386114),\n ('sneap', 0.34893450635386114),\n ('spane', 0.34893450635386114),\n ('spean', 0.34893450635386114),\n ('oriya', 0.3489149560117303),\n ('cairo', 0.3485239491691105),\n ('oaric', 0.3485239491691105),\n ('snarl', 0.3484848484848485),\n ('ethal', 0.34834799608993156),\n ('lathe', 0.34834799608993156),\n ('leath', 0.34834799608993156),\n ('enhat', 0.34809384164222873),\n ('ethan', 0.34809384164222873),\n ('nathe', 0.34809384164222873),\n ('neath', 0.34809384164222873),\n ('thane', 0.34809384164222873),\n ('lerwa', 0.3479960899315738),\n ('waler', 0.3479960899315738),\n ('waler', 0.3479960899315738),\n ('paste', 0.34795698924731183),\n ('septa', 0.34795698924731183),\n ('spate', 0.34795698924731183),\n ('deary', 0.34785923753665693),\n ('deray', 0.34785923753665693),\n ('rayed', 0.34785923753665693),\n ('ready', 0.34785923753665693),\n ('yeard', 0.34785923753665693),\n ('feral', 0.34780058651026396),\n ('flare', 0.34780058651026396),\n ('awner', 0.34774193548387095),\n ('newar', 0.34774193548387095),\n ('refan', 0.3475464320625611),\n ('slart', 0.34750733137829914),\n ('acred', 0.34746823069403715),\n ('cader', 0.34746823069403715),\n ('cadre', 0.34746823069403715),\n ('cedar', 0.34746823069403715),\n ('arulo', 0.3474486803519062),\n ('rauli', 0.3473900293255132),\n ('urali', 0.3473900293255132),\n ('urial', 0.3473900293255132),\n ('starn', 0.34725317693059626),\n ('alpen', 0.3471945259042033),\n ('blase', 0.3471945259042033),\n ('nepal', 0.3471945259042033),\n ('panel', 0.3471945259042033),\n ('penal', 0.3471945259042033),\n ('plane', 0.3471945259042033),\n ('sable', 0.3471945259042033),\n ('aurin', 0.3471358748778104),\n ('urian', 0.3471358748778104),\n ('mayer', 0.34701857282502446),\n ('reamy', 0.34701857282502446),\n ('besan', 0.3469403714565004),\n ('tawer', 0.34676441837732164),\n ('water', 0.34676441837732164),\n ('wreat', 0.34676441837732164),\n ('cream', 0.3466275659824047),\n ('macer', 0.3466275659824047),\n ('afret', 0.3465689149560118),\n ('after', 0.3465689149560118),\n ('cause', 0.34651026392961876),\n ('sauce', 0.34651026392961876),\n ('atour', 0.346217008797654),\n ('leapt', 0.34621700879765394),\n ('palet', 0.34621700879765394),\n ('patel', 0.34621700879765394),\n ('pelta', 0.34621700879765394),\n ('petal', 0.34621700879765394),\n ('plate', 0.34621700879765394),\n ('pleat', 0.34621700879765394),\n ('tepal', 0.34621700879765394),\n ('tauri', 0.346158357771261),\n ('baste', 0.3459628543499511),\n ('beast', 0.3459628543499511),\n ('enapt', 0.3459628543499511),\n ('paten', 0.3459628543499511),\n ('penta', 0.3459628543499511),\n ('tabes', 0.3459628543499511),\n ('tapen', 0.3459628543499511),\n ('ouabe', 0.34590420332355815),\n ('saver', 0.3457869012707723),\n ('acher', 0.34576735092864125),\n ('arche', 0.34576735092864125),\n ('chare', 0.34576735092864125),\n ('chera', 0.34576735092864125),\n ('rache', 0.34576735092864125),\n ('reach', 0.34576735092864125),\n ('aroid', 0.3453372434017596),\n ('doria', 0.3453372434017596),\n ('radio', 0.3453372434017596),\n ('aruke', 0.34527859237536657),\n ('agnes', 0.34525904203323554),\n ('gesan', 0.34525904203323554),\n ('leban', 0.3452003910068426),\n ('nable', 0.3452003910068426),\n ('waise', 0.3449266862170088),\n ('maori', 0.3444965786901271),\n ('mario', 0.3444965786901271),\n ('moira', 0.3444965786901271),\n ('stage', 0.34428152492668623),\n ('batel', 0.3442228739002932),\n ('blate', 0.3442228739002932),\n ('bleat', 0.3442228739002932),\n ('table', 0.3442228739002932),\n ('arvel', 0.3440469208211144),\n ('larve', 0.3440469208211144),\n ('laver', 0.3440469208211144),\n ('ravel', 0.3440469208211144),\n ('velar', 0.3440469208211144),\n ('apery', 0.34402737047898335),\n ('payer', 0.34402737047898335),\n ('repay', 0.34402737047898335),\n ('abnet', 0.3439687194525904),\n ('beant', 0.3439687194525904),\n ('raven', 0.34379276637341155),\n ('salon', 0.34373411534701853),\n ('sloan', 0.34373411534701853),\n ('solan', 0.34373411534701853),\n ('sinal', 0.34367546432062557),\n ('slain', 0.34367546432062557),\n ('snail', 0.34367546432062557),\n ('haori', 0.3436363636363637),\n ('iroha', 0.3436363636363637),\n ('caper', 0.34363636363636363),\n ('crape', 0.34363636363636363),\n ('pacer', 0.34363636363636363),\n ('perca', 0.34363636363636363),\n ('recap', 0.34363636363636363),\n ('acute', 0.34353861192570867),\n ('agnel', 0.3435190615835777),\n ('angel', 0.3435190615835777),\n ('angle', 0.3435190615835777),\n ('galen', 0.3435190615835777),\n ('genal', 0.3435190615835777),\n ('glean', 0.3435190615835777),\n ('lagen', 0.3435190615835777),\n ('aerie', 0.34349951124144673),\n ('airer', 0.34349951124144673),\n ('arrie', 0.34349951124144673),\n ('raiae', 0.34349951124144673),\n ('armed', 0.34344086021505377),\n ('derma', 0.34344086021505377),\n ('dream', 0.34344086021505377),\n ('ramed', 0.34344086021505377),\n ('suade', 0.34332355816226784),\n ('alowe', 0.3432453567937439),\n ('ediya', 0.343049853372434),\n ('avert', 0.3428152492668622),\n ('tarve', 0.3428152492668622),\n ('taver', 0.3428152492668622),\n ('trave', 0.3428152492668622),\n ('stola', 0.3427565982404692),\n ('alist', 0.34269794721407626),\n ('litas', 0.34269794721407626),\n ('slait', 0.34269794721407626),\n ('talis', 0.34269794721407626),\n ('auloi', 0.3426392961876833),\n ('derah', 0.34258064516129033),\n ('aglet', 0.34254154447702834),\n ('galet', 0.34254154447702834),\n ('santo', 0.34250244379276634),\n ('amuse', 0.3424828934506354),\n ('mesua', 0.3424828934506354),\n ('saint', 0.3424437927663734),\n ('satin', 0.3424437927663734),\n ('stain', 0.3424437927663734),\n ('agent', 0.3422873900293255),\n ('yameo', 0.34226783968719454),\n ('barye', 0.3420332355816227),\n ('beray', 0.3420332355816227),\n ('yerba', 0.3420332355816227),\n ('aweto', 0.3420136852394917),\n ('tawie', 0.34195503421309875),\n ('cameo', 0.34187683284457476),\n ('alkes', 0.3418181818181818),\n ('amice', 0.3418181818181818),\n ('sakel', 0.3418181818181818),\n ('slake', 0.3418181818181818),\n ('harem', 0.34173998044965787),\n ('herma', 0.34173998044965787),\n ('rhema', 0.34173998044965787),\n ('acerb', 0.3416422287390029),\n ('brace', 0.3416422287390029),\n ('caber', 0.3416422287390029),\n ('hause', 0.34162267839687194),\n ('skean', 0.341564027370479),\n ('snake', 0.341564027370479),\n ('sneak', 0.341564027370479),\n ('poria', 0.34150537634408606),\n ('duane', 0.3413294232649071),\n ('loser', 0.34117302052785925),\n ('orsel', 0.34117302052785925),\n ('rosel', 0.34117302052785925),\n ('soler', 0.34117302052785925),\n ('sieva', 0.3409775171065494),\n ('norse', 0.34091886608015637),\n ('noser', 0.34091886608015637),\n ('seron', 0.34091886608015637),\n ('snore', 0.34091886608015637),\n ('reins', 0.34086021505376346),\n ('resin', 0.34086021505376346),\n ('rinse', 0.34086021505376346),\n ('risen', 0.34086021505376346),\n ('serin', 0.34086021505376346),\n ('siren', 0.34086021505376346),\n ('notal', 0.3407624633431085),\n ('ontal', 0.3407624633431085),\n ('talon', 0.3407624633431085),\n ('tolan', 0.3407624633431085),\n ('tonal', 0.3407624633431085),\n ('amelu', 0.3407429130009775),\n ('leuma', 0.3407429130009775),\n ('ulema', 0.3407429130009775),\n ('altin', 0.34070381231671554),\n ('latin', 0.34070381231671554),\n ('skate', 0.3405865102639296),\n ('stake', 0.3405865102639296),\n ('steak', 0.3405865102639296),\n ('soary', 0.34056695992179864),\n ('sairy', 0.34050830889540573),\n ('neuma', 0.34048875855327465),\n ('drape', 0.3404496578690127),\n ('padre', 0.3404496578690127),\n ('yerga', 0.34035190615835775),\n ('arcos', 0.3401759530791789),\n ('crosa', 0.3401759530791789),\n ('oscar', 0.3401759530791789),\n ('sacro', 0.3401759530791789),\n ('cager', 0.33996089931573803),\n ('garce', 0.33996089931573803),\n ('grace', 0.33996089931573803),\n ('grace', 0.33996089931573803),\n ('roset', 0.33994134897360706),\n ('rotse', 0.33994134897360706),\n ('soter', 0.33994134897360706),\n ('stero', 0.33994134897360706),\n ('store', 0.33994134897360706),\n ('torse', 0.33994134897360706),\n ('steri', 0.3398826979472141),\n ('lehua', 0.33988269794721404),\n ('ourie', 0.33982404692082113),\n ('ankle', 0.3398240469208211),\n ('amper', 0.33960899315738025),\n ('remap', 0.33960899315738025),\n ('baroi', 0.33951124144672534),\n ('autem', 0.3395112414467253),\n ('pause', 0.3394916911045943),\n ('loave', 0.33929618768328446),\n ('alive', 0.3392375366568915),\n ('enrol', 0.33917888563049853),\n ('loren', 0.33917888563049853),\n ('liner', 0.33912023460410556),\n ('larus', 0.33904203323558163),\n ('sural', 0.33904203323558163),\n ('ursal', 0.33904203323558163),\n ('avine', 0.33898338220918867),\n ('naive', 0.33898338220918867),\n ('vinea', 0.33898338220918867),\n ('ketal', 0.3388465298142717),\n ('royal', 0.3388269794721408),\n ('picae', 0.33882697947214074),\n ('picea', 0.33882697947214074),\n ('lairy', 0.3387683284457478),\n ('riyal', 0.3387683284457478),\n ('hepar', 0.3387487781036168),\n ('phare', 0.3387487781036168),\n ('raphe', 0.3387487781036168),\n ('amide', 0.3386314760508309),\n ('damie', 0.3386314760508309),\n ('media', 0.3386314760508309),\n ('media', 0.3386314760508309),\n ('taken', 0.3385923753665689),\n ('rayon', 0.338572825024438),\n ('nairy', 0.33851417399804495),\n ('rainy', 0.33851417399804495),\n ('ardeb', 0.338455522971652),\n ('beard', 0.338455522971652),\n ('bread', 0.338455522971652),\n ('debar', 0.338455522971652),\n ('alcor', 0.338435972629521),\n ('calor', 0.338435972629521),\n ('carlo', 0.338435972629521),\n ('carol', 0.338435972629521),\n ('carol', 0.338435972629521),\n ('claro', 0.338435972629521),\n ('coral', 0.338435972629521),\n ('lerot', 0.33820136852394916),\n ('orlet', 0.33820136852394916),\n ('relot', 0.33820136852394916),\n ('acorn', 0.3381818181818182),\n ('acron', 0.3381818181818182),\n ('racon', 0.3381818181818182),\n ('liter', 0.3381427174975562),\n ('tiler', 0.3381427174975562),\n ('cairn', 0.33812316715542523),\n ('crain', 0.33812316715542523),\n ('naric', 0.33812316715542523),\n ('feuar', 0.33810361681329426),\n ('relax', 0.3380840664711633),\n ('ovate', 0.33806451612903227),\n ('noter', 0.33794721407624634),\n ('tenor', 0.33794721407624634),\n ('toner', 0.33794721407624634),\n ('trone', 0.33794721407624634),\n ('casey', 0.3378885630498534),\n ('inert', 0.3378885630498534),\n ('inter', 0.3378885630498534),\n ('niter', 0.3378885630498534),\n ('retin', 0.3378885630498534),\n ('trine', 0.3378885630498534),\n ('orgia', 0.33782991202346047),\n ('astur', 0.33781036168132944),\n ('surat', 0.33781036168132944),\n ('sutra', 0.33781036168132944),\n ('amber', 0.3376148582600195),\n ('bearm', 0.3376148582600195),\n ('bemar', 0.3376148582600195),\n ('bream', 0.3376148582600195),\n ('embar', 0.3376148582600195),\n ('otary', 0.3375953079178886),\n ('tayir', 0.3375366568914956),\n ('abuse', 0.3374975562072336),\n ('actor', 0.33720430107526883),\n ('corta', 0.33720430107526883),\n ('croat', 0.33720430107526883),\n ('rocta', 0.33720430107526883),\n ('taroc', 0.33720430107526883),\n ('troca', 0.33720430107526883),\n ('trica', 0.33714565004887587),\n ('lunar', 0.3370478983382209),\n ('ulnar', 0.3370478983382209),\n ('urnal', 0.3370478983382209),\n ('mahoe', 0.33698924731182794),\n ('sarod', 0.33698924731182794),\n ('sorda', 0.33698924731182794),\n ('drias', 0.33693059628543504),\n ('extra', 0.3368523949169111),\n ('retax', 0.3368523949169111),\n ('taxer', 0.3368523949169111),\n ('ceiba', 0.33683284457478),\n ('edgar', 0.3367741935483871),\n ('grade', 0.3367741935483871),\n ('yarke', 0.3366568914956012),\n ('taupe', 0.33652003910068423),\n ('upeat', 0.33652003910068423),\n ('acker', 0.33626588465298146),\n ('caker', 0.33626588465298146),\n ('crake', 0.33626588465298146),\n ('creak', 0.33626588465298146),\n ('eosin', 0.3361094819159335),\n ('noise', 0.3361094819159335),\n ('maris', 0.33608993157380257),\n ('marsi', 0.33608993157380257),\n ('samir', 0.33608993157380257),\n ('simar', 0.33608993157380257),\n ('lutra', 0.33607038123167154),\n ('ultra', 0.33607038123167154),\n ('grame', 0.33593352883675465),\n ('marge', 0.33593352883675465),\n ('regma', 0.33593352883675465),\n ('arnut', 0.3358162267839687),\n ('tuarn', 0.3358162267839687),\n ('untar', 0.3358162267839687),\n ('usage', 0.3358162267839687),\n ('ashir', 0.33522971652003913),\n ('shari', 0.33522971652003913),\n ('drail', 0.33519061583577714),\n ('laird', 0.33519061583577714),\n ('larid', 0.33519061583577714),\n ('liard', 0.33519061583577714),\n ('arses', 0.33515151515151514),\n ('easer', 0.33515151515151514),\n ('erase', 0.33515151515151514),\n ('ersar', 0.33515151515151514),\n ('raser', 0.33515151515151514),\n ('rasse', 0.33515151515151514),\n ('serra', 0.33515151515151514),\n ('sotie', 0.3351319648093842),\n ('toise', 0.3351319648093842),\n ('gareh', 0.3350733137829912),\n ('gerah', 0.3350733137829912),\n ('adorn', 0.3349951124144672),\n ('donar', 0.3349951124144672),\n ('drona', 0.3349951124144672),\n ('radon', 0.3349951124144672),\n ('darin', 0.3349364613880743),\n ('dinar', 0.3349364613880743),\n ('drain', 0.3349364613880743),\n ('indra', 0.3349364613880743),\n ('nadir', 0.3349364613880743),\n ('ranid', 0.3349364613880743),\n ('swale', 0.33483870967741935),\n ('sweal', 0.33483870967741935),\n ('wasel', 0.33483870967741935),\n ('azole', 0.3346823069403715),\n ('zoeal', 0.3346823069403715),\n ('false', 0.3346432062561095),\n ('aizle', 0.3346236559139785),\n ('eliza', 0.3346236559139785),\n ('sewan', 0.3345845552297165),\n ('butea', 0.3345259042033235),\n ('taube', 0.3345259042033235),\n ('tubae', 0.3345259042033235),\n ('neoza', 0.33442815249266855),\n ('ozena', 0.33442815249266855),\n ('molar', 0.33440860215053764),\n ('moral', 0.33440860215053764),\n ('romal', 0.33440860215053764),\n ('safen', 0.3343890518084066),\n ('azine', 0.33436950146627564),\n ('enoil', 0.33436950146627564),\n ('ileon', 0.33436950146627564),\n ('olein', 0.33436950146627564),\n ('armil', 0.33434995112414473),\n ('marli', 0.33434995112414473),\n ('rimal', 0.33434995112414473),\n ('cased', 0.3343108504398827),\n ('aulos', 0.3342913000977517),\n ('manor', 0.3341544477028348),\n ('moran', 0.3341544477028348),\n ('norma', 0.3341544477028348),\n ('norma', 0.3341544477028348),\n ('ramon', 0.3341544477028348),\n ('roman', 0.3341544477028348),\n ('inarm', 0.33409579667644185),\n ('minar', 0.33409579667644185),\n ('tareq', 0.33409579667644185),\n ('gulae', 0.3340762463343108),\n ('legua', 0.3340762463343108),\n ('anous', 0.33403714565004883),\n ('troad', 0.3340175953079179),\n ('ianus', 0.3339784946236559),\n ('suina', 0.3339784946236559),\n ('triad', 0.33395894428152495),\n ('seamy', 0.33386119257087),\n ('augen', 0.333822091886608),\n ('genua', 0.333822091886608),\n ('abode', 0.33370478983382207),\n ('adobe', 0.33370478983382207),\n ('abide', 0.3336461388074291),\n ('awest', 0.33360703812316717),\n ('sweat', 0.33360703812316717),\n ('tawse', 0.33360703812316717),\n ('waste', 0.33360703812316717),\n ('horal', 0.3335483870967742),\n ('lohar', 0.3335483870967742),\n ('azote', 0.3334506353861193),\n ('aller', 0.3334115347018573),\n ('areal', 0.3334115347018573),\n ('areel', 0.3334115347018573),\n ('earle', 0.3334115347018573),\n ('feast', 0.3334115347018573),\n ('reaal', 0.3334115347018573),\n ('eliot', 0.3333919843597263),\n ('acoin', 0.3333724340175953),\n ('oncia', 0.3333724340175953),\n ('nahor', 0.3332942326490714),\n ('norah', 0.3332942326490714),\n ('rohan', 0.3332942326490714),\n ('axile', 0.3332746823069404),\n ('lexia', 0.3332746823069404),\n ('rhina', 0.3332355816226784),\n ('amort', 0.33317693059628545),\n ('morat', 0.33317693059628545),\n ('torma', 0.33317693059628545),\n ('anear', 0.3331573802541545),\n ('arean', 0.3331573802541545),\n ('arena', 0.3331573802541545),\n ('arnee', 0.3331573802541545),\n ('naren', 0.3331573802541545),\n ('psora', 0.3331573802541545),\n ('sapor', 0.3331573802541545),\n ('sarpo', 0.3331573802541545),\n ('tenio', 0.33313782991202345),\n ('mitra', 0.3331182795698925),\n ('mitra', 0.3331182795698925),\n ('tarmi', 0.3331182795698925),\n ('timar', 0.3331182795698925),\n ('tirma', 0.3331182795698925),\n ('paris', 0.3330987292277615),\n ('parsi', 0.3330987292277615),\n ('sarip', 0.3330987292277615),\n ('daker', 0.33307917888563054),\n ('drake', 0.33307917888563054),\n ('radek', 0.33307917888563054),\n ('kedar', 0.3330791788856305),\n ('oxane', 0.3330791788856305),\n ('aotus', 0.3330596285434995),\n ('axine', 0.3330205278592375),\n ('xenia', 0.3330205278592375),\n ('delay', 0.3329618768328446),\n ('leady', 0.3329618768328446),\n ('gaper', 0.3329423264907136),\n ('grape', 0.3329423264907136),\n ('pager', 0.3329423264907136),\n ('parge', 0.3329423264907136),\n ('tegua', 0.33284457478005863),\n ('wanle', 0.33284457478005863),\n ('iambe', 0.33280547409579664),\n ('flane', 0.33264907135874877),\n ('chase', 0.3326099706744868),\n ('clead', 0.33257086999022484),\n ('decal', 0.33257086999022484),\n ...]"
     },
     "execution_count": 8,
     "metadata": {},
     "output_type": "execute_result"
    }
   ],
   "source": [
    "sc = [ (w, score(w)) for w in words] # score each element of the list\n",
    "sc.sort(key=lambda x:x[1], reverse=True) # sort the list according to score\n",
    "sc"
   ],
   "metadata": {
    "collapsed": false,
    "pycharm": {
     "name": "#%%\n"
    }
   }
  },
  {
   "cell_type": "markdown",
   "source": [
    "According to this metric, the best word to start the game with should be the first one. Since we have a sorted list, we need the first element (extracted by [0]) and the first component of the pair (the second [0]) since we do not really care about the frequency."
   ],
   "metadata": {
    "collapsed": false,
    "pycharm": {
     "name": "#%% md\n"
    }
   }
  },
  {
   "cell_type": "code",
   "execution_count": 9,
   "outputs": [
    {
     "data": {
      "text/plain": "'arose'"
     },
     "execution_count": 9,
     "metadata": {},
     "output_type": "execute_result"
    }
   ],
   "source": [
    "sc[0][0]"
   ],
   "metadata": {
    "collapsed": false,
    "pycharm": {
     "name": "#%%\n"
    }
   }
  },
  {
   "cell_type": "markdown",
   "source": [
    "'arose' is a good candidate. I would have expected that 'arise' ranked higher. And furthermore, I like starting words that end with 's' (to know if the word we are looking for ends is plural). However, so far we did not tell the score function that we like words that end with 's', so that is my fault really.\n",
    "So my personal favourite word to start would be 'aries'. The program gets pretty close nonetheless."
   ],
   "metadata": {
    "collapsed": false,
    "pycharm": {
     "name": "#%% md\n"
    }
   }
  },
  {
   "cell_type": "markdown",
   "source": [
    "Here I run out of steam a bit, but still I defined what a not bad word is (i.e.: one that does not contain letters we know do not appear in the solution).\n",
    "\n",
    "However, bad letters are just a constant that one needs to add."
   ],
   "metadata": {
    "collapsed": false,
    "pycharm": {
     "name": "#%% md\n"
    }
   }
  },
  {
   "cell_type": "code",
   "execution_count": 128,
   "outputs": [],
   "source": [
    "def not_bad(w, bad):\n",
    "    for c in w:\n",
    "        if c in bad: return False\n",
    "    return True\n",
    "\n",
    "\n",
    "fsc = [w for (w, _) in sc if not_bad(w, \"roseticmyd\")]"
   ],
   "metadata": {
    "collapsed": false,
    "pycharm": {
     "name": "#%%\n"
    }
   }
  },
  {
   "cell_type": "markdown",
   "source": [
    "Then I define a function to match words with letters in good positions. So the spec is a five character string with dots as placeholders for unknown letters, and the letters we know otherwise."
   ],
   "metadata": {
    "collapsed": false,
    "pycharm": {
     "name": "#%% md\n"
    }
   }
  },
  {
   "cell_type": "code",
   "execution_count": null,
   "outputs": [],
   "source": [
    "def match_spec(w, sp):\n",
    "    for i in list(range(0,4)):\n",
    "        if sp[i] != \".\":\n",
    "            if w[i] != sp[i]:\n",
    "                return False\n",
    "    return True\n"
   ],
   "metadata": {
    "collapsed": false,
    "pycharm": {
     "name": "#%%\n"
    }
   }
  },
  {
   "cell_type": "markdown",
   "source": [
    "With that we can try to find the words that are not bad, and that match the spec. And we get them sorted by their frequency. The dictionary contains many weird words that Wordle does not like, so you should try the less weird looking words."
   ],
   "metadata": {
    "collapsed": false,
    "pycharm": {
     "name": "#%% md\n"
    }
   }
  },
  {
   "cell_type": "code",
   "execution_count": 143,
   "outputs": [
    {
     "data": {
      "text/plain": "['banal',\n 'fanal',\n 'lanaz',\n 'banga',\n 'kanap',\n 'panak',\n 'janua',\n 'banak',\n 'kanga',\n 'banff',\n 'wanga',\n 'panax',\n 'ganza',\n 'hanna',\n 'ganja',\n 'panna',\n 'banba',\n 'ganga',\n 'ganga',\n 'nanga']"
     },
     "execution_count": 143,
     "metadata": {},
     "output_type": "execute_result"
    }
   ],
   "source": [
    "[w for w in fsc if match_spec(w, \".an..\")]"
   ],
   "metadata": {
    "collapsed": false,
    "pycharm": {
     "name": "#%%\n"
    }
   }
  }
 ],
 "metadata": {
  "kernelspec": {
   "display_name": "Python 3 (ipykernel)",
   "language": "python",
   "name": "python3"
  },
  "language_info": {
   "codemirror_mode": {
    "name": "ipython",
    "version": 3
   },
   "file_extension": ".py",
   "mimetype": "text/x-python",
   "name": "python",
   "nbconvert_exporter": "python",
   "pygments_lexer": "ipython3",
   "version": "3.8.9"
  }
 },
 "nbformat": 4,
 "nbformat_minor": 1
}