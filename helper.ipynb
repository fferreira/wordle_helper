{
 "cells": [
  {
   "cell_type": "markdown",
   "metadata": {},
   "source": [
    "# Playing with the dictionary to help in wordle\n",
    "\n",
    "First lets load a word list from the computers dictionary"
   ]
  },
  {
   "cell_type": "code",
   "execution_count": 18,
   "metadata": {
    "collapsed": true,
    "pycharm": {
     "name": "#%%\n"
    }
   },
   "outputs": [],
   "source": [
    "word_list = open(\"/usr/share/dict/words\",\"r\").readlines()"
   ]
  },
  {
   "cell_type": "markdown",
   "source": [
    "Then let's clean up a bit the word list to get all the words with 5 letters."
   ],
   "metadata": {
    "collapsed": false,
    "pycharm": {
     "name": "#%% md\n"
    }
   }
  },
  {
   "cell_type": "code",
   "execution_count": 23,
   "outputs": [],
   "source": [
    "words = [x.strip().lower() for x in word_list if len(x.strip()) == 5 ]"
   ],
   "metadata": {
    "collapsed": false,
    "pycharm": {
     "name": "#%%\n"
    }
   }
  },
  {
   "cell_type": "markdown",
   "source": [
    "Count the letter appearances:"
   ],
   "metadata": {
    "collapsed": false,
    "pycharm": {
     "name": "#%% md\n"
    }
   }
  },
  {
   "cell_type": "code",
   "execution_count": 38,
   "metadata": {
    "pycharm": {
     "name": "#%%\n"
    }
   },
   "outputs": [],
   "source": [
    "freq = {}\n",
    "for w in words:\n",
    "    for c in w:\n",
    "        if c in freq:\n",
    "            freq[c] += 1\n",
    "        else:\n",
    "            freq[c] = 1"
   ]
  },
  {
   "cell_type": "markdown",
   "source": [
    "And then compute their relative frequency (this step we may avoid)."
   ],
   "metadata": {
    "collapsed": false,
    "pycharm": {
     "name": "#%% md\n"
    }
   }
  },
  {
   "cell_type": "code",
   "execution_count": 47,
   "outputs": [],
   "source": [
    "total = sum(freq.values())\n",
    "for k, v in freq.items():\n",
    "    freq[k] = freq[k]/total"
   ],
   "metadata": {
    "collapsed": false,
    "pycharm": {
     "name": "#%%\n"
    }
   }
  },
  {
   "cell_type": "code",
   "execution_count": 62,
   "outputs": [],
   "source": [
    "def score(w):\n",
    "    s = 0\n",
    "    for letter in set(w):\n",
    "        s += freq[letter]\n",
    "    return s"
   ],
   "metadata": {
    "collapsed": false,
    "pycharm": {
     "name": "#%%\n"
    }
   }
  },
  {
   "cell_type": "code",
   "execution_count": 93,
   "outputs": [],
   "source": [
    "sc = [ (w, score(w)) for w in words] # score each element of the list\n",
    "sc.sort(key=lambda x:x[1], reverse=True) # sort the list according to score"
   ],
   "metadata": {
    "collapsed": false,
    "pycharm": {
     "name": "#%%\n"
    }
   }
  },
  {
   "cell_type": "code",
   "execution_count": 128,
   "outputs": [],
   "source": [
    "def not_bad(w, bad):\n",
    "    for c in w:\n",
    "        if c in bad: return False\n",
    "    return True\n",
    "\n",
    "\n",
    "fsc = [w for (w, _) in sc if not_bad(w, \"roseticmyd\")]"
   ],
   "metadata": {
    "collapsed": false,
    "pycharm": {
     "name": "#%%\n"
    }
   }
  },
  {
   "cell_type": "code",
   "execution_count": 141,
   "outputs": [],
   "source": [
    "def match_spec(w, sp):\n",
    "    for i in list(range(0,4)):\n",
    "        if sp[i] != \".\":\n",
    "            if w[i] != sp[i]:\n",
    "                return False\n",
    "    return True\n"
   ],
   "metadata": {
    "collapsed": false,
    "pycharm": {
     "name": "#%%\n"
    }
   }
  },
  {
   "cell_type": "code",
   "execution_count": 143,
   "outputs": [
    {
     "data": {
      "text/plain": "['banal',\n 'fanal',\n 'lanaz',\n 'banga',\n 'kanap',\n 'panak',\n 'janua',\n 'banak',\n 'kanga',\n 'banff',\n 'wanga',\n 'panax',\n 'ganza',\n 'hanna',\n 'ganja',\n 'panna',\n 'banba',\n 'ganga',\n 'ganga',\n 'nanga']"
     },
     "execution_count": 143,
     "metadata": {},
     "output_type": "execute_result"
    }
   ],
   "source": [
    "[w for w in fsc if match_spec(w, \".an..\")]"
   ],
   "metadata": {
    "collapsed": false,
    "pycharm": {
     "name": "#%%\n"
    }
   }
  }
 ],
 "metadata": {
  "kernelspec": {
   "display_name": "Python 3 (ipykernel)",
   "language": "python",
   "name": "python3"
  },
  "language_info": {
   "codemirror_mode": {
    "name": "ipython",
    "version": 3
   },
   "file_extension": ".py",
   "mimetype": "text/x-python",
   "name": "python",
   "nbconvert_exporter": "python",
   "pygments_lexer": "ipython3",
   "version": "3.8.9"
  }
 },
 "nbformat": 4,
 "nbformat_minor": 1
}